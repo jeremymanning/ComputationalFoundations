{
 "cells": [
  {
   "cell_type": "code",
   "execution_count": 1,
   "metadata": {
    "colab": {
     "base_uri": "https://localhost:8080/"
    },
    "id": "olGR1OWoogFS",
    "outputId": "0c352cbf-7182-484b-9acd-68ec622a18cf"
   },
   "outputs": [
    {
     "name": "stdout",
     "output_type": "stream",
     "text": [
      "Defaulting to user installation because normal site-packages is not writeable\r\n",
      "Requirement already satisfied: psychrnn in /Users/f003vz1/Library/Python/3.8/lib/python/site-packages (1.0.0)\r\n",
      "Requirement already satisfied: python-version!=\"3.0*\",!=\"3.1*\",!=\"3.2*\",!=\"3.3*\",>=\"2.7\" in /Users/f003vz1/Library/Python/3.8/lib/python/site-packages (from psychrnn) (0.0.2)\r\n",
      "Requirement already satisfied: tensorflow in /Users/f003vz1/Library/Python/3.8/lib/python/site-packages (from psychrnn) (2.13.0)\r\n"
     ]
    },
    {
     "name": "stdout",
     "output_type": "stream",
     "text": [
      "Requirement already satisfied: tensorflow-macos==2.13.0 in /Users/f003vz1/Library/Python/3.8/lib/python/site-packages (from tensorflow->psychrnn) (2.13.0)\r\n",
      "Requirement already satisfied: absl-py>=1.0.0 in /Users/f003vz1/Library/Python/3.8/lib/python/site-packages (from tensorflow-macos==2.13.0->tensorflow->psychrnn) (2.0.0)\r\n",
      "Requirement already satisfied: astunparse>=1.6.0 in /Users/f003vz1/Library/Python/3.8/lib/python/site-packages (from tensorflow-macos==2.13.0->tensorflow->psychrnn) (1.6.3)\r\n",
      "Requirement already satisfied: flatbuffers>=23.1.21 in /Users/f003vz1/Library/Python/3.8/lib/python/site-packages (from tensorflow-macos==2.13.0->tensorflow->psychrnn) (23.5.26)\r\n",
      "Requirement already satisfied: gast<=0.4.0,>=0.2.1 in /Users/f003vz1/Library/Python/3.8/lib/python/site-packages (from tensorflow-macos==2.13.0->tensorflow->psychrnn) (0.4.0)\r\n",
      "Requirement already satisfied: google-pasta>=0.1.1 in /Users/f003vz1/Library/Python/3.8/lib/python/site-packages (from tensorflow-macos==2.13.0->tensorflow->psychrnn) (0.2.0)\r\n",
      "Requirement already satisfied: h5py>=2.9.0 in /Users/f003vz1/Library/Python/3.8/lib/python/site-packages (from tensorflow-macos==2.13.0->tensorflow->psychrnn) (3.10.0)\r\n",
      "Requirement already satisfied: libclang>=13.0.0 in /Users/f003vz1/Library/Python/3.8/lib/python/site-packages (from tensorflow-macos==2.13.0->tensorflow->psychrnn) (16.0.6)\r\n",
      "Requirement already satisfied: numpy<=1.24.3,>=1.22 in /Users/f003vz1/Library/Python/3.8/lib/python/site-packages (from tensorflow-macos==2.13.0->tensorflow->psychrnn) (1.24.3)\r\n",
      "Requirement already satisfied: opt-einsum>=2.3.2 in /Users/f003vz1/Library/Python/3.8/lib/python/site-packages (from tensorflow-macos==2.13.0->tensorflow->psychrnn) (3.3.0)\r\n",
      "Requirement already satisfied: packaging in /Users/f003vz1/Library/Python/3.8/lib/python/site-packages (from tensorflow-macos==2.13.0->tensorflow->psychrnn) (23.1)\r\n",
      "Requirement already satisfied: protobuf!=4.21.0,!=4.21.1,!=4.21.2,!=4.21.3,!=4.21.4,!=4.21.5,<5.0.0dev,>=3.20.3 in /Users/f003vz1/Library/Python/3.8/lib/python/site-packages (from tensorflow-macos==2.13.0->tensorflow->psychrnn) (4.24.4)\r\n",
      "Requirement already satisfied: setuptools in /Library/Developer/CommandLineTools/Library/Frameworks/Python3.framework/Versions/3.8/lib/python3.8/site-packages (from tensorflow-macos==2.13.0->tensorflow->psychrnn) (49.2.1)\r\n",
      "Requirement already satisfied: six>=1.12.0 in /Library/Developer/CommandLineTools/Library/Frameworks/Python3.framework/Versions/3.8/lib/python3.8/site-packages (from tensorflow-macos==2.13.0->tensorflow->psychrnn) (1.15.0)\r\n",
      "Requirement already satisfied: termcolor>=1.1.0 in /Users/f003vz1/Library/Python/3.8/lib/python/site-packages (from tensorflow-macos==2.13.0->tensorflow->psychrnn) (2.3.0)\r\n",
      "Requirement already satisfied: typing-extensions<4.6.0,>=3.6.6 in /Users/f003vz1/Library/Python/3.8/lib/python/site-packages (from tensorflow-macos==2.13.0->tensorflow->psychrnn) (4.5.0)\r\n",
      "Requirement already satisfied: wrapt>=1.11.0 in /Users/f003vz1/Library/Python/3.8/lib/python/site-packages (from tensorflow-macos==2.13.0->tensorflow->psychrnn) (1.15.0)\r\n",
      "Requirement already satisfied: grpcio<2.0,>=1.24.3 in /Users/f003vz1/Library/Python/3.8/lib/python/site-packages (from tensorflow-macos==2.13.0->tensorflow->psychrnn) (1.59.0)\r\n",
      "Requirement already satisfied: tensorboard<2.14,>=2.13 in /Users/f003vz1/Library/Python/3.8/lib/python/site-packages (from tensorflow-macos==2.13.0->tensorflow->psychrnn) (2.13.0)\r\n",
      "Requirement already satisfied: tensorflow-estimator<2.14,>=2.13.0 in /Users/f003vz1/Library/Python/3.8/lib/python/site-packages (from tensorflow-macos==2.13.0->tensorflow->psychrnn) (2.13.0)\r\n",
      "Requirement already satisfied: keras<2.14,>=2.13.1 in /Users/f003vz1/Library/Python/3.8/lib/python/site-packages (from tensorflow-macos==2.13.0->tensorflow->psychrnn) (2.13.1)\r\n",
      "Requirement already satisfied: wheel<1.0,>=0.23.0 in /Library/Developer/CommandLineTools/Library/Frameworks/Python3.framework/Versions/3.8/lib/python3.8/site-packages (from astunparse>=1.6.0->tensorflow-macos==2.13.0->tensorflow->psychrnn) (0.33.1)\r\n",
      "Requirement already satisfied: google-auth<3,>=1.6.3 in /Users/f003vz1/Library/Python/3.8/lib/python/site-packages (from tensorboard<2.14,>=2.13->tensorflow-macos==2.13.0->tensorflow->psychrnn) (2.23.3)\r\n",
      "Requirement already satisfied: google-auth-oauthlib<1.1,>=0.5 in /Users/f003vz1/Library/Python/3.8/lib/python/site-packages (from tensorboard<2.14,>=2.13->tensorflow-macos==2.13.0->tensorflow->psychrnn) (1.0.0)\r\n",
      "Requirement already satisfied: markdown>=2.6.8 in /Users/f003vz1/Library/Python/3.8/lib/python/site-packages (from tensorboard<2.14,>=2.13->tensorflow-macos==2.13.0->tensorflow->psychrnn) (3.5)\r\n",
      "Requirement already satisfied: requests<3,>=2.21.0 in /Users/f003vz1/Library/Python/3.8/lib/python/site-packages (from tensorboard<2.14,>=2.13->tensorflow-macos==2.13.0->tensorflow->psychrnn) (2.31.0)\r\n",
      "Requirement already satisfied: tensorboard-data-server<0.8.0,>=0.7.0 in /Users/f003vz1/Library/Python/3.8/lib/python/site-packages (from tensorboard<2.14,>=2.13->tensorflow-macos==2.13.0->tensorflow->psychrnn) (0.7.2)\r\n",
      "Requirement already satisfied: werkzeug>=1.0.1 in /Users/f003vz1/Library/Python/3.8/lib/python/site-packages (from tensorboard<2.14,>=2.13->tensorflow-macos==2.13.0->tensorflow->psychrnn) (3.0.1)\r\n"
     ]
    },
    {
     "name": "stdout",
     "output_type": "stream",
     "text": [
      "Requirement already satisfied: cachetools<6.0,>=2.0.0 in /Users/f003vz1/Library/Python/3.8/lib/python/site-packages (from google-auth<3,>=1.6.3->tensorboard<2.14,>=2.13->tensorflow-macos==2.13.0->tensorflow->psychrnn) (5.3.2)\r\n",
      "Requirement already satisfied: pyasn1-modules>=0.2.1 in /Users/f003vz1/Library/Python/3.8/lib/python/site-packages (from google-auth<3,>=1.6.3->tensorboard<2.14,>=2.13->tensorflow-macos==2.13.0->tensorflow->psychrnn) (0.3.0)\r\n",
      "Requirement already satisfied: rsa<5,>=3.1.4 in /Users/f003vz1/Library/Python/3.8/lib/python/site-packages (from google-auth<3,>=1.6.3->tensorboard<2.14,>=2.13->tensorflow-macos==2.13.0->tensorflow->psychrnn) (4.9)\r\n",
      "Requirement already satisfied: requests-oauthlib>=0.7.0 in /Users/f003vz1/Library/Python/3.8/lib/python/site-packages (from google-auth-oauthlib<1.1,>=0.5->tensorboard<2.14,>=2.13->tensorflow-macos==2.13.0->tensorflow->psychrnn) (1.3.1)\r\n",
      "Requirement already satisfied: importlib-metadata>=4.4 in /Users/f003vz1/Library/Python/3.8/lib/python/site-packages (from markdown>=2.6.8->tensorboard<2.14,>=2.13->tensorflow-macos==2.13.0->tensorflow->psychrnn) (6.8.0)\r\n",
      "Requirement already satisfied: charset-normalizer<4,>=2 in /Users/f003vz1/Library/Python/3.8/lib/python/site-packages (from requests<3,>=2.21.0->tensorboard<2.14,>=2.13->tensorflow-macos==2.13.0->tensorflow->psychrnn) (3.2.0)\r\n",
      "Requirement already satisfied: idna<4,>=2.5 in /Users/f003vz1/Library/Python/3.8/lib/python/site-packages (from requests<3,>=2.21.0->tensorboard<2.14,>=2.13->tensorflow-macos==2.13.0->tensorflow->psychrnn) (3.4)\r\n",
      "Requirement already satisfied: urllib3<3,>=1.21.1 in /Users/f003vz1/Library/Python/3.8/lib/python/site-packages (from requests<3,>=2.21.0->tensorboard<2.14,>=2.13->tensorflow-macos==2.13.0->tensorflow->psychrnn) (2.0.4)\r\n",
      "Requirement already satisfied: certifi>=2017.4.17 in /Users/f003vz1/Library/Python/3.8/lib/python/site-packages (from requests<3,>=2.21.0->tensorboard<2.14,>=2.13->tensorflow-macos==2.13.0->tensorflow->psychrnn) (2023.7.22)\r\n",
      "Requirement already satisfied: MarkupSafe>=2.1.1 in /Users/f003vz1/Library/Python/3.8/lib/python/site-packages (from werkzeug>=1.0.1->tensorboard<2.14,>=2.13->tensorflow-macos==2.13.0->tensorflow->psychrnn) (2.1.3)\r\n"
     ]
    },
    {
     "name": "stdout",
     "output_type": "stream",
     "text": [
      "Requirement already satisfied: zipp>=0.5 in /Users/f003vz1/Library/Python/3.8/lib/python/site-packages (from importlib-metadata>=4.4->markdown>=2.6.8->tensorboard<2.14,>=2.13->tensorflow-macos==2.13.0->tensorflow->psychrnn) (3.16.2)\r\n",
      "Requirement already satisfied: pyasn1<0.6.0,>=0.4.6 in /Users/f003vz1/Library/Python/3.8/lib/python/site-packages (from pyasn1-modules>=0.2.1->google-auth<3,>=1.6.3->tensorboard<2.14,>=2.13->tensorflow-macos==2.13.0->tensorflow->psychrnn) (0.5.0)\r\n",
      "Requirement already satisfied: oauthlib>=3.0.0 in /Users/f003vz1/Library/Python/3.8/lib/python/site-packages (from requests-oauthlib>=0.7.0->google-auth-oauthlib<1.1,>=0.5->tensorboard<2.14,>=2.13->tensorflow-macos==2.13.0->tensorflow->psychrnn) (3.2.2)\r\n"
     ]
    },
    {
     "name": "stdout",
     "output_type": "stream",
     "text": [
      "\u001b[33mDEPRECATION: psychrnn 1.0.0 has a non-standard dependency specifier python-version!=\"3.0*\",!=\"3.1*\",!=\"3.2*\",!=\"3.3*\",>=\"2.7\". pip 23.3 will enforce this behaviour change. A possible replacement is to upgrade to a newer version of psychrnn or contact the author to suggest that they release a version with a conforming dependency specifiers. Discussion can be found at https://github.com/pypa/pip/issues/12063\u001b[0m\u001b[33m\r\n",
      "\u001b[0m"
     ]
    },
    {
     "name": "stdout",
     "output_type": "stream",
     "text": [
      "\r\n",
      "\u001b[1m[\u001b[0m\u001b[34;49mnotice\u001b[0m\u001b[1;39;49m]\u001b[0m\u001b[39;49m A new release of pip is available: \u001b[0m\u001b[31;49m23.2.1\u001b[0m\u001b[39;49m -> \u001b[0m\u001b[32;49m23.3.1\u001b[0m\r\n",
      "\u001b[1m[\u001b[0m\u001b[34;49mnotice\u001b[0m\u001b[1;39;49m]\u001b[0m\u001b[39;49m To update, run: \u001b[0m\u001b[32;49m/Library/Developer/CommandLineTools/usr/bin/Python3 -m pip install --upgrade pip\u001b[0m\r\n"
     ]
    },
    {
     "name": "stdout",
     "output_type": "stream",
     "text": [
      "Note: you may need to restart the kernel to use updated packages.\n"
     ]
    }
   ],
   "source": [
    "pip install psychrnn"
   ]
  },
  {
   "cell_type": "markdown",
   "metadata": {
    "id": "oxuHfNheng-R"
   },
   "source": [
    "# Hello World!"
   ]
  },
  {
   "cell_type": "markdown",
   "metadata": {
    "id": "TgEiATPCng-R"
   },
   "source": [
    "A popular 2-alternative forced choice perceptual discrimination task is the random dot motion (RDM) task. In RDM, the subject observes dots moving in different directions. The RDM task is a forced choice task -- although dots can move in any direction, their are two directions in which the movement of the coherent dots could be. The subject must make a choice towards one of the two directions at the end of the stimulus period ([Britten et al., 1992](https://www.jneurosci.org/content/12/12/4745)).\n",
    "\n",
    "To make it possible for an RNN to complete this task, we model this task as two simultaneous noisy inputs into each of two input channels, representing the two directions. The network must determine which channel has the higher mean input and respond by driving the corresponding output unit to 1, and the other output unit to .2. We've included this example task in PsychRNN as [PerceptualDiscrimination](../apidoc/tasks.rst#module-psychrnn.tasks.perceptual_discrimination).\n",
    "\n",
    "To get started, let's train a basic model in PsychRNN on this 2-alternative forced choice perceptual discrimination task and test how it does on task input. For simplicity, we will use the model defaults."
   ]
  },
  {
   "cell_type": "code",
   "execution_count": 2,
   "metadata": {
    "colab": {
     "base_uri": "https://localhost:8080/",
     "height": 1000
    },
    "id": "nt-x68YIng-S",
    "outputId": "922604b7-beba-47a3-dc4e-0c9c90757aa2"
   },
   "outputs": [
    {
     "ename": "ModuleNotFoundError",
     "evalue": "No module named 'matplotlib'",
     "output_type": "error",
     "traceback": [
      "\u001b[0;31m---------------------------------------------------------------------------\u001b[0m",
      "\u001b[0;31mModuleNotFoundError\u001b[0m                       Traceback (most recent call last)",
      "Cell \u001b[0;32mIn[2], line 1\u001b[0m\n\u001b[0;32m----> 1\u001b[0m \u001b[38;5;28;01mfrom\u001b[39;00m \u001b[38;5;21;01mmatplotlib\u001b[39;00m \u001b[38;5;28;01mimport\u001b[39;00m pyplot \u001b[38;5;28;01mas\u001b[39;00m plt\n\u001b[1;32m      2\u001b[0m get_ipython()\u001b[38;5;241m.\u001b[39mrun_line_magic(\u001b[38;5;124m'\u001b[39m\u001b[38;5;124mmatplotlib\u001b[39m\u001b[38;5;124m'\u001b[39m, \u001b[38;5;124m'\u001b[39m\u001b[38;5;124minline\u001b[39m\u001b[38;5;124m'\u001b[39m)\n\u001b[1;32m      4\u001b[0m \u001b[38;5;66;03m# ---------------------- Import the package ---------------------------\u001b[39;00m\n",
      "\u001b[0;31mModuleNotFoundError\u001b[0m: No module named 'matplotlib'"
     ]
    }
   ],
   "source": [
    "from matplotlib import pyplot as plt\n",
    "%matplotlib inline\n",
    "\n",
    "# ---------------------- Import the package ---------------------------\n",
    "from psychrnn.tasks.perceptual_discrimination import PerceptualDiscrimination\n",
    "from psychrnn.backend.models.basic import Basic\n",
    "\n",
    "# ---------------------- Set up a basic model ---------------------------\n",
    "pd = PerceptualDiscrimination(dt = 10, tau = 100, T = 2000, N_batch = 128)\n",
    "network_params = pd.get_task_params() # get the params passed in and defined in pd\n",
    "network_params['name'] = 'model' # name the model uniquely if running mult models in unison\n",
    "network_params['N_rec'] = 50 # set the number of recurrent units in the model\n",
    "model = Basic(network_params) # instantiate a basic vanilla RNN\n",
    "\n",
    "# ---------------------- Train a basic model ---------------------------\n",
    "model.train(pd) # train model to perform pd task\n",
    "\n",
    "# ---------------------- Test the trained model ---------------------------\n",
    "x,target_output,mask, trial_params = pd.get_trial_batch() # get pd task inputs and outputs\n",
    "model_output, model_state = model.test(x) # run the model on input x\n",
    "\n",
    "# ---------------------- Plot the results ---------------------------\n",
    "plt.plot(model_output[0])\n",
    "\n",
    "# ---------------------- Teardown the model -------------------------\n",
    "model.destruct()"
   ]
  },
  {
   "cell_type": "markdown",
   "metadata": {
    "id": "dJSBnLkMng-S"
   },
   "source": [
    "Congratulations! You’ve successfully trained and tested your first model! Continue to [Simple Example](./PerceptualDiscrimination.ipynb) to learn how to define more useful models."
   ]
  }
 ],
 "metadata": {
  "celltoolbar": "Edit Metadata",
  "colab": {
   "provenance": []
  },
  "kernelspec": {
   "display_name": "Python 3",
   "language": "python",
   "name": "python3"
  },
  "language_info": {
   "codemirror_mode": {
    "name": "ipython",
    "version": 3
   },
   "file_extension": ".py",
   "mimetype": "text/x-python",
   "name": "python",
   "nbconvert_exporter": "python",
   "pygments_lexer": "ipython3",
   "version": "3.8.9"
  }
 },
 "nbformat": 4,
 "nbformat_minor": 0
}